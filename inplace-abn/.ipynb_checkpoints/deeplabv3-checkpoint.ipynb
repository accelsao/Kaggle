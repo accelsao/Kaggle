{
 "cells": [
  {
   "cell_type": "markdown",
   "metadata": {},
   "source": [
    "# Reference"
   ]
  },
  {
   "cell_type": "markdown",
   "metadata": {},
   "source": [
    "[inplace_abn/modules/deeplab.py](https://github.com/mapillary/inplace_abn/blob/master/modules/deeplab.py)\n",
    "\n",
    "[inplace_abn/modules/bn.py](https://github.com/mapillary/inplace_abn/blob/master/modules/bn.py)\n",
    "\n",
    "[inplace_abn/modules/functions.py](https://github.com/mapillary/inplace_abn/blob/master/modules/functions.py)\n",
    "\n",
    "[Inplace ABN](https://arxiv.org/abs/1712.02616)"
   ]
  },
  {
   "cell_type": "code",
   "execution_count": 21,
   "metadata": {},
   "outputs": [],
   "source": [
    "import torch\n",
    "import torch.nn as nn\n",
    "import torch.nn.functional as F"
   ]
  },
  {
   "cell_type": "markdown",
   "metadata": {},
   "source": [
    "# BN"
   ]
  },
  {
   "cell_type": "code",
   "execution_count": 34,
   "metadata": {},
   "outputs": [],
   "source": [
    "class ABN(nn.Module):\n",
    "    def __init__(self, num_features, eps=1e-5, momentum=0.1, affine=True, activation=\"leaky_relu\", slope=0.01):\n",
    "        super().__init__()\n",
    "        self.num_features = num_features\n",
    "        self.affine = affine\n",
    "        self.eps = eps\n",
    "        self.momentum = momentum\n",
    "        self.activation = activation\n",
    "        self.slope = slope\n",
    "        if self.affine:\n",
    "            self.weight = nn.Parameter(torch.ones(num_features))\n",
    "            self.bias = nn.Parameter(torch.zeros(num_features))\n",
    "        else:\n",
    "            self.register_parameter('weight', None)\n",
    "            self.register_parameter('bias', None)\n",
    "        self.register_buffer('running_mean', torch.zeros(num_features))\n",
    "        self.register_buffer('running_var', torch.ones(num_features))\n",
    "        self.reset_parameters()\n",
    "    def reset_parameters(self):\n",
    "        nn.init.constant_(self.running_mean, 0)\n",
    "        nn.init.constant_(self.running_var, 1)   \n",
    "        if self.affine:\n",
    "            nn.init.constant_(self.weight, 1)\n",
    "            nn.init.constant_(self.bias, 0)\n",
    "    def forward(self, x):\n",
    "        x = F.batch_norm(x, self.running_mean, self.running_var, weight=self.weight, bias=self.bias,\n",
    "                         training=self.training, momentum=self.momentum, eps=self.eps)\n",
    "        \n",
    "        if self.activation == ACT_RELU:\n",
    "            return F.relu(x, inplace=True)\n",
    "        elif self.activation == ACT_LEAKY_RELU:\n",
    "            return F.leaky_relu(x, negative_slope=self.slope, inplace=True)\n",
    "        elif self.activation == ACT_ELU:\n",
    "            return F.elu(x, inplace=True)\n",
    "        else:\n",
    "            return x\n",
    "    "
   ]
  },
  {
   "cell_type": "code",
   "execution_count": 41,
   "metadata": {},
   "outputs": [],
   "source": [
    "class InplaceABN(ABN):\n",
    "    def __init__(self, num_features, eps=1e-5, momentum=0.1, affine=True, activation=\"leaky_relu\", slope=0.01):\n",
    "        super(InplaceABN, self).__init__(num_features, eps, momentum, affine, activation, slope)\n",
    "    \n",
    "    def forward(self ,x):\n",
    "        return \n",
    "        "
   ]
  },
  {
   "cell_type": "code",
   "execution_count": 43,
   "metadata": {},
   "outputs": [
    {
     "name": "stdout",
     "output_type": "stream",
     "text": [
      "InplaceABN()\n"
     ]
    }
   ],
   "source": [
    "z = InplaceABN(10)\n",
    "print(z)"
   ]
  },
  {
   "cell_type": "code",
   "execution_count": 52,
   "metadata": {},
   "outputs": [
    {
     "name": "stdout",
     "output_type": "stream",
     "text": [
      "torch.Size([20])\n",
      "tensor([-2.4721e+31,  2.8671e-42,  0.0000e+00,  0.0000e+00,  0.0000e+00,\n",
      "         0.0000e+00, -2.5027e+31,  2.8671e-42,  0.0000e+00,  0.0000e+00,\n",
      "        -3.6541e-09,  2.8671e-42,  0.0000e+00,  0.0000e+00,         nan,\n",
      "         6.8664e-44,  1.4013e-45,  0.0000e+00,  1.4013e-45,  5.7453e-44])\n"
     ]
    }
   ],
   "source": [
    "z = torch.randn((5,3,2,10))\n",
    "z = z.new_empty(20)\n",
    "print(z.shape)\n",
    "print(z)"
   ]
  },
  {
   "cell_type": "markdown",
   "metadata": {},
   "source": [
    "# DeepLab"
   ]
  },
  {
   "cell_type": "code",
   "execution_count": null,
   "metadata": {},
   "outputs": [],
   "source": [
    "class DeepLabV3(nn.Module):\n",
    "    def __init__(self,\n",
    "                 in_channels,\n",
    "                 hidden_channels=256,\n",
    "                 out_channels,\n",
    "                 dilations=(12,24,36),\n",
    "                 norm_act = ABN,\n",
    "                 \n",
    "                ):\n",
    "        super().__init__()\n",
    "        \n",
    "        \n",
    "        self.map_convs = nn.ModuleList([\n",
    "            \n",
    "            nn.Conv2(in_channels, hidden_channels, kernel_size=1, bias=False),\n",
    "            \n",
    "            nn.Conv2(in_channels, hidden_channels, kernel_size=3, padding=dilations[0], dilation=dilations[0], bias=False),\n",
    "            nn.Conv2(in_channels, hidden_channels, kernel_size=3, padding=dilations[1], dilation=dilations[1], bias=False),\n",
    "            nn.Conv2(in_channels, hidden_channels, kernel_size=3, padding=dilations[2], dilation=dilations[2], bias=False)\n",
    "            # padding size = (k-1)*d/2\n",
    "        ])"
   ]
  },
  {
   "cell_type": "markdown",
   "metadata": {},
   "source": [
    "![](http://liangchiehchen.com/fig/deeplabv3plus.png)"
   ]
  }
 ],
 "metadata": {
  "kernelspec": {
   "display_name": "Python 3",
   "language": "python",
   "name": "python3"
  },
  "language_info": {
   "codemirror_mode": {
    "name": "ipython",
    "version": 3
   },
   "file_extension": ".py",
   "mimetype": "text/x-python",
   "name": "python",
   "nbconvert_exporter": "python",
   "pygments_lexer": "ipython3",
   "version": "3.6.4"
  }
 },
 "nbformat": 4,
 "nbformat_minor": 2
}
