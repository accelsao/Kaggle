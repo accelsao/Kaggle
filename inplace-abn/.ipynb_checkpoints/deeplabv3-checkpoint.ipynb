{
 "cells": [
  {
   "cell_type": "markdown",
   "metadata": {},
   "source": [
    "# Reference"
   ]
  },
  {
   "cell_type": "markdown",
   "metadata": {},
   "source": [
    "[inplace_abn/modules/deeplab.py](https://github.com/mapillary/inplace_abn/blob/master/modules/deeplab.py)\n",
    "\n",
    "[inplace_abn/modules/bn.py](https://github.com/mapillary/inplace_abn/blob/master/modules/bn.py)\n",
    "\n",
    "[inplace_abn/modules/functions.py](https://github.com/mapillary/inplace_abn/blob/master/modules/functions.py)\n",
    "\n",
    "[Inplace ABN](https://arxiv.org/abs/1712.02616)"
   ]
  },
  {
   "cell_type": "code",
   "execution_count": 2,
   "metadata": {},
   "outputs": [],
   "source": [
    "import torch\n",
    "import torch.nn as nn\n",
    "import torch.nn.functional as F"
   ]
  },
  {
   "cell_type": "markdown",
   "metadata": {},
   "source": [
    "# BN"
   ]
  },
  {
   "cell_type": "code",
   "execution_count": 34,
   "metadata": {},
   "outputs": [],
   "source": [
    "class ABN(nn.Module):\n",
    "    def __init__(self, num_features, eps=1e-5, momentum=0.1, affine=True, activation=\"leaky_relu\", slope=0.01):\n",
    "        super().__init__()\n",
    "        self.num_features = num_features\n",
    "        self.affine = affine\n",
    "        self.eps = eps\n",
    "        self.momentum = momentum\n",
    "        self.activation = activation\n",
    "        self.slope = slope\n",
    "        if self.affine:\n",
    "            self.weight = nn.Parameter(torch.ones(num_features))\n",
    "            self.bias = nn.Parameter(torch.zeros(num_features))\n",
    "        else:\n",
    "            self.register_parameter('weight', None)\n",
    "            self.register_parameter('bias', None)\n",
    "        self.register_buffer('running_mean', torch.zeros(num_features))\n",
    "        self.register_buffer('running_var', torch.ones(num_features))\n",
    "        self.reset_parameters()\n",
    "    def reset_parameters(self):\n",
    "        nn.init.constant_(self.running_mean, 0)\n",
    "        nn.init.constant_(self.running_var, 1)   \n",
    "        if self.affine:\n",
    "            nn.init.constant_(self.weight, 1)\n",
    "            nn.init.constant_(self.bias, 0)\n",
    "    def forward(self, x):\n",
    "        x = F.batch_norm(x, self.running_mean, self.running_var, weight=self.weight, bias=self.bias,\n",
    "                         training=self.training, momentum=self.momentum, eps=self.eps)\n",
    "        \n",
    "        if self.activation == ACT_RELU:\n",
    "            return F.relu(x, inplace=True)\n",
    "        elif self.activation == ACT_LEAKY_RELU:\n",
    "            return F.leaky_relu(x, negative_slope=self.slope, inplace=True)\n",
    "        elif self.activation == ACT_ELU:\n",
    "            return F.elu(x, inplace=True)\n",
    "        else:\n",
    "            return x\n",
    "    "
   ]
  },
  {
   "cell_type": "code",
   "execution_count": 41,
   "metadata": {},
   "outputs": [],
   "source": [
    "class InplaceABN(ABN):\n",
    "    def __init__(self, num_features, eps=1e-5, momentum=0.1, affine=True, activation=\"leaky_relu\", slope=0.01):\n",
    "        super(InplaceABN, self).__init__(num_features, eps, momentum, affine, activation, slope)\n",
    "    \n",
    "    def forward(self ,x):\n",
    "        return \n",
    "        "
   ]
  },
  {
   "cell_type": "code",
   "execution_count": 43,
   "metadata": {},
   "outputs": [
    {
     "name": "stdout",
     "output_type": "stream",
     "text": [
      "InplaceABN()\n"
     ]
    }
   ],
   "source": [
    "z = InplaceABN(10)\n",
    "print(z)"
   ]
  },
  {
   "cell_type": "code",
   "execution_count": 52,
   "metadata": {},
   "outputs": [
    {
     "name": "stdout",
     "output_type": "stream",
     "text": [
      "torch.Size([20])\n",
      "tensor([-2.4721e+31,  2.8671e-42,  0.0000e+00,  0.0000e+00,  0.0000e+00,\n",
      "         0.0000e+00, -2.5027e+31,  2.8671e-42,  0.0000e+00,  0.0000e+00,\n",
      "        -3.6541e-09,  2.8671e-42,  0.0000e+00,  0.0000e+00,         nan,\n",
      "         6.8664e-44,  1.4013e-45,  0.0000e+00,  1.4013e-45,  5.7453e-44])\n"
     ]
    }
   ],
   "source": [
    "z = torch.randn((5,3,2,10))\n",
    "z = z.new_empty(20)\n",
    "print(z.shape)\n",
    "print(z)"
   ]
  },
  {
   "cell_type": "markdown",
   "metadata": {},
   "source": [
    "# DeepLab"
   ]
  },
  {
   "cell_type": "code",
   "execution_count": null,
   "metadata": {},
   "outputs": [],
   "source": [
    "class DeepLabV3(nn.Module):\n",
    "    def __init__(self,\n",
    "                 in_channels,\n",
    "                 hidden_channels=256,\n",
    "                 out_channels,\n",
    "                 dilations=(12,24,36),\n",
    "                 norm_act = ABN,\n",
    "                 pooling_size=None):\n",
    "        super().__init__()\n",
    "        \n",
    "        self.pooling_size = pooling_size\n",
    "        self.map_convs = nn.ModuleList([\n",
    "            \n",
    "            nn.Conv2(in_channels, hidden_channels, kernel_size=1, bias=False),\n",
    "            \n",
    "            nn.Conv2(in_channels, hidden_channels, kernel_size=3, padding=dilations[0], dilation=dilations[0], bias=False),\n",
    "            nn.Conv2(in_channels, hidden_channels, kernel_size=3, padding=dilations[1], dilation=dilations[1], bias=False),\n",
    "            nn.Conv2(in_channels, hidden_channels, kernel_size=3, padding=dilations[2], dilation=dilations[2], bias=False)\n",
    "            # padding size = (k-1)*d/2\n",
    "        ])\n",
    "        \n",
    "        self.map_bn = norm_act(hidden_channels * 4)\n",
    "        \n",
    "        self.conv1x1 = nn.Conv2d(hidden_channels * 4, out_channels, kernel_size=1, bias=False)\n",
    "        \n",
    "        self.avg_pool = nn.AdaptiveAvgPool2d(1)\n",
    "        \n",
    "        self.global_pooling_conv = nn.Conv2d(in_channels, hidden_channels, kernel_size=1, bias=False)\n",
    "        self.global_pooling_bn = norm_act(hidden_channels)\n",
    "        self.pool_conv1x1 = nn.Conv2d(hidden_channels, out_channels, kernel_size=1, bias=False)\n",
    "        \n",
    "        \n",
    "        self.reduced_bn = norm_act(out_channels)\n",
    "        \n",
    "    def forward(self, x):\n",
    "        out = torch.cat([m(x) for m in self.map_convs], dim=1)\n",
    "        out = self.map_bn(out)\n",
    "        out = self.conv1x1(out)\n",
    "        \n",
    "        # global pooling\n",
    "        pool = self._global_pooling(x)\n",
    "        pool = self.global_pooling_conv(pool)\n",
    "        pool = self.global_pooling_bn(pool)\n",
    "        pool = self.pool_red_conv(pool)\n",
    "        pool = self.pool_conv1x1(pool)\n",
    "    \n",
    "         if self.training or self.pooling_size is None:\n",
    "            pool = pool.repeat(1, 1, x.size(2), x.size(3))\n",
    "\n",
    "        out += pool\n",
    "        out = self.self.reduced_bn(out)\n",
    "        return out\n",
    "    \n",
    "    \n",
    "    def _global_pooling(self, x):\n",
    "        if self.training or self.pooling_size is None:\n",
    "            pool = self.avg_pool(x)\n",
    "        else:\n",
    "            pooling_size = (min(self.pooling_size[0], x.size(2)),\n",
    "                            min(self.pooling_size[1], x.size(3)))\n",
    "            \n",
    "            padding = (\n",
    "                (pooling_size[1] - 1) // 2,\n",
    "                (pooling_size[1] - 1) // 2 if pooling_size[1] % 2 == 1 else (pooling_size[1] - 1) // 2 + 1,\n",
    "                (pooling_size[0] - 1) // 2,\n",
    "                (pooling_size[0] - 1) // 2 if pooling_size[0] % 2 == 1 else (pooling_size[0] - 1) // 2 + 1\n",
    "            )\n",
    "            \n",
    "            pool = F.avg_pool2d(x pooling_size, stride=1)\n",
    "            pool = F.pad(pool, pad=padding, mode='replicate')\n",
    "            \n",
    "        return pool"
   ]
  },
  {
   "cell_type": "code",
   "execution_count": 12,
   "metadata": {},
   "outputs": [
    {
     "name": "stdout",
     "output_type": "stream",
     "text": [
      "torch.Size([1, 3, 2, 2])\n",
      "torch.Size([1, 3, 10, 10])\n"
     ]
    }
   ],
   "source": [
    "x = torch.randn((1,3,2,2))\n",
    "print(x.shape)\n",
    "z = x.repeat((1,1,5,5))\n",
    "print(z.shape)"
   ]
  },
  {
   "cell_type": "code",
   "execution_count": 7,
   "metadata": {},
   "outputs": [
    {
     "name": "stdout",
     "output_type": "stream",
     "text": [
      "torch.Size([1, 3, 1, 1])\n"
     ]
    }
   ],
   "source": [
    "m = nn.AdaptiveAvgPool2d(1)\n",
    "z = m(x)\n",
    "print(z.shape)"
   ]
  },
  {
   "cell_type": "code",
   "execution_count": 9,
   "metadata": {},
   "outputs": [
    {
     "name": "stdout",
     "output_type": "stream",
     "text": [
      "5\n"
     ]
    }
   ],
   "source": [
    "a = (5,3)\n",
    "print(a[0])"
   ]
  },
  {
   "cell_type": "markdown",
   "metadata": {},
   "source": [
    "![](http://liangchiehchen.com/fig/deeplabv3plus.png)"
   ]
  }
 ],
 "metadata": {
  "kernelspec": {
   "display_name": "Python 3",
   "language": "python",
   "name": "python3"
  },
  "language_info": {
   "codemirror_mode": {
    "name": "ipython",
    "version": 3
   },
   "file_extension": ".py",
   "mimetype": "text/x-python",
   "name": "python",
   "nbconvert_exporter": "python",
   "pygments_lexer": "ipython3",
   "version": "3.6.4"
  }
 },
 "nbformat": 4,
 "nbformat_minor": 2
}
