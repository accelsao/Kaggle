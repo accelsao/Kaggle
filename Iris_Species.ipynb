{
  "cells": [
    {
      "metadata": {
        "_uuid": "8f2839f25d086af736a60e9eeb907d3b93b6e0e5",
        "_cell_guid": "b1076dfc-b9ad-4769-8c92-a6c4dae69d19",
        "trusted": true
      },
      "cell_type": "code",
      "source": "\nimport numpy as np # linear algebra\nimport pandas as pd # data processing, CSV file I/O (e.g. pd.read_csv)\nimport matplotlib.pyplot as plt\nimport seaborn as sns\nimport os\nprint(os.listdir(\"../input\"))\n\n# Any results you write to the current directory are saved as output.",
      "execution_count": null,
      "outputs": []
    },
    {
      "metadata": {
        "_cell_guid": "79c7e3d0-c299-4dcb-8224-4455121ee9b0",
        "_uuid": "d629ff2d2480ee46fbb7e2d37f6b5fab8052498a",
        "trusted": true
      },
      "cell_type": "code",
      "source": "iris=pd.read_csv('../input/Iris.csv')\niris.head(5)",
      "execution_count": null,
      "outputs": []
    },
    {
      "metadata": {
        "trusted": true,
        "_uuid": "b3bbf7065f860ce573756f6d8fbe38467667f1d2"
      },
      "cell_type": "code",
      "source": "iris.info()",
      "execution_count": null,
      "outputs": []
    },
    {
      "metadata": {
        "trusted": true,
        "_uuid": "442b9cc42cd8626b6f547562a252054e2a06cdbf"
      },
      "cell_type": "code",
      "source": "#iris=iris.iloc[:,1:]\niris.drop('Id',axis=1,inplace=True)\niris.head(5)",
      "execution_count": null,
      "outputs": []
    },
    {
      "metadata": {
        "trusted": true,
        "_uuid": "a9d09846349c0acebf6c34c72ba7f26fe71d7870"
      },
      "cell_type": "code",
      "source": "iris.Species.unique()",
      "execution_count": null,
      "outputs": []
    },
    {
      "metadata": {
        "trusted": true,
        "_uuid": "56f67b11ac3856ca83376bd3442a98352bf687f5"
      },
      "cell_type": "code",
      "source": "fig = iris[iris.Species=='Iris-setosa'].plot(kind='scatter',x='SepalLengthCm',y='SepalWidthCm',color='orange', label='Setosa')\niris[iris.Species=='Iris-versicolor'].plot(kind='scatter',x='SepalLengthCm',y='SepalWidthCm',color='blue', label='versicolor',ax=fig)\niris[iris.Species=='Iris-virginica'].plot(kind='scatter',x='SepalLengthCm',y='SepalWidthCm',color='green', label='virginica', ax=fig)\nfig.set_xlabel(\"Sepal Length\")\nfig.set_ylabel(\"Sepal Width\")\nfig.set_title(\"Sepal Length VS Width\")\nfig=plt.gcf()\nfig.set_size_inches(10,6)\nplt.show()",
      "execution_count": null,
      "outputs": []
    },
    {
      "metadata": {
        "trusted": true,
        "_uuid": "f8cd4efdf6f454ab87aec311b060524926d8a122"
      },
      "cell_type": "code",
      "source": "fig = iris[iris.Species=='Iris-setosa'].plot(kind='scatter',x='PetalLengthCm',y='PetalWidthCm',color='orange', label='Setosa')\niris[iris.Species=='Iris-versicolor'].plot(kind='scatter',x='PetalLengthCm',y='PetalWidthCm',color='blue', label='versicolor',ax=fig)\niris[iris.Species=='Iris-virginica'].plot(kind='scatter',x='PetalLengthCm',y='PetalWidthCm',color='green', label='virginica', ax=fig)\nfig.set_xlabel(\"Petal Length\")\nfig.set_ylabel(\"Petal Width\")\nfig.set_title(\"Petal Length VS Width\")\nfig=plt.gcf()\nfig.set_size_inches(10,6)\nplt.show()",
      "execution_count": null,
      "outputs": []
    },
    {
      "metadata": {
        "trusted": true,
        "_uuid": "f0c77ff3ab5c99c53bdca88c02482e994c140dbc"
      },
      "cell_type": "code",
      "source": "iris.hist(edgecolor='purple',linewidth=1.2)\nfig=plt.gcf()\nfig.set_size_inches(12,6)\nplt.show",
      "execution_count": null,
      "outputs": []
    },
    {
      "metadata": {
        "trusted": true,
        "_uuid": "4d59caf3bcb3f3e30e6579c37cbd8458aa110a69"
      },
      "cell_type": "code",
      "source": "plt.figure(figsize=(15,10))\nplt.subplot(2,2,1)\nsns.violinplot(x='Species',y='PetalLengthCm',data=iris)\nplt.subplot(2,2,2)\nsns.violinplot(x='Species',y='PetalWidthCm',data=iris)\nplt.subplot(2,2,3)\nsns.violinplot(x='Species',y='SepalLengthCm',data=iris)\nplt.subplot(2,2,4)\nsns.violinplot(x='Species',y='SepalWidthCm',data=iris)",
      "execution_count": null,
      "outputs": []
    },
    {
      "metadata": {
        "trusted": true,
        "_uuid": "53187a53c202cf1319f063d2055da177654ec797"
      },
      "cell_type": "code",
      "source": "from sklearn.linear_model import LogisticRegression\nfrom sklearn.cross_validation import train_test_split #to split the dataset for training and testing\nfrom sklearn.neighbors import KNeighborsClassifier  # for K nearest neighbours\nfrom sklearn import svm  #for Support Vector Machine (SVM) Algorithm\nfrom sklearn import metrics #for checking the model accuracy\nfrom sklearn.tree import DecisionTreeClassifier #for using Decision Tree Algoithm",
      "execution_count": null,
      "outputs": []
    },
    {
      "metadata": {
        "trusted": true,
        "_uuid": "96a02b538ebeb2e859f6aba90a3d40e71663a6d5"
      },
      "cell_type": "code",
      "source": "iris.shape",
      "execution_count": null,
      "outputs": []
    },
    {
      "metadata": {
        "trusted": true,
        "_uuid": "694cc9fbc12da52b91fcd2647a6fa05d524eeb78"
      },
      "cell_type": "code",
      "source": "plt.figure(figsize=(7,4))\nsns.heatmap(iris.corr(),annot=True,cmap='cubehelix_r')\nplt.show()",
      "execution_count": null,
      "outputs": []
    },
    {
      "metadata": {
        "trusted": true,
        "_uuid": "d128dd416f04bb2a9701ccfeb4302e79c4e56063"
      },
      "cell_type": "code",
      "source": "train,test=train_test_split(iris,test_size=0.3)\nprint(train.shape)\nprint(test.shape)\n",
      "execution_count": null,
      "outputs": []
    },
    {
      "metadata": {
        "trusted": true,
        "_uuid": "8d84be131a240193f1c299fce7a71718968ebd1b"
      },
      "cell_type": "code",
      "source": "train_X = train[['SepalLengthCm','SepalWidthCm','PetalLengthCm','PetalWidthCm']]\ntrain_Y=train['Species']\ntest_X = test[['SepalLengthCm','SepalWidthCm','PetalLengthCm','PetalWidthCm']]\ntest_Y=test['Species']\nprint(train_X.head(5))\nprint(test_X.head(5))\nprint(train_Y.head(5))\nprint(test_Y.head(5))",
      "execution_count": null,
      "outputs": []
    },
    {
      "metadata": {
        "trusted": true,
        "_uuid": "eafc2af5b588b1d6e1a0c625b35efd6481f51974"
      },
      "cell_type": "code",
      "source": "model=svm.SVC()\nmodel.fit(train_X,train_Y)\nprediction=model.predict(test_X)\nprint('The accuracy of the SVM is:',metrics.accuracy_score(prediction,test_Y))",
      "execution_count": null,
      "outputs": []
    },
    {
      "metadata": {
        "trusted": true,
        "_uuid": "c6b08922a3a9f8324c6330f00af5aae550c17316"
      },
      "cell_type": "code",
      "source": "model=LogisticRegression()\nmodel.fit(train_X,train_Y)\nprediction=model.predict(test_X)\nprint('The accuracy of the LR is:',metrics.accuracy_score(prediction,test_Y))",
      "execution_count": null,
      "outputs": []
    },
    {
      "metadata": {
        "trusted": true,
        "_uuid": "6e73ffb9b6a023bbbc3f4da3ac3753e5f9522d14"
      },
      "cell_type": "code",
      "source": "model=DecisionTreeClassifier()\nmodel.fit(train_X,train_Y)\nprediction=model.predict(test_X)\nprint('The accuracy of the DTC is:',metrics.accuracy_score(prediction,test_Y))",
      "execution_count": null,
      "outputs": []
    },
    {
      "metadata": {
        "trusted": true,
        "_uuid": "8aa97ac8ced2b2e4bee7682e6fc63f801fe7c295"
      },
      "cell_type": "code",
      "source": "model=KNeighborsClassifier(n_neighbors=3) #this examines 3 neighbours for putting the new data into a class\nmodel.fit(train_X,train_Y)\nprediction=model.predict(test_X)\nprint('The accuracy of the KNN is',metrics.accuracy_score(prediction,test_Y))",
      "execution_count": null,
      "outputs": []
    },
    {
      "metadata": {
        "trusted": true,
        "_uuid": "002a8b8055d8bbdac78311f853cd935e7a33180d"
      },
      "cell_type": "code",
      "source": "a=pd.Series()\nidx=list(range(1,11))\nfor i in range(1,11):\n    model=KNeighborsClassifier(n_neighbors=i)\n    model.fit(train_X,train_Y)\n    prediction=model.predict(test_X)\n    a=a.append(pd.Series(metrics.accuracy_score(prediction,test_Y)))\nplt.plot(idx,a)\n#plt.xticks(idx)\n",
      "execution_count": null,
      "outputs": []
    }
  ],
  "metadata": {
    "kernelspec": {
      "display_name": "Python 3",
      "language": "python",
      "name": "python3"
    },
    "language_info": {
      "name": "python",
      "version": "3.6.6",
      "mimetype": "text/x-python",
      "codemirror_mode": {
        "name": "ipython",
        "version": 3
      },
      "pygments_lexer": "ipython3",
      "nbconvert_exporter": "python",
      "file_extension": ".py"
    }
  },
  "nbformat": 4,
  "nbformat_minor": 1
}
