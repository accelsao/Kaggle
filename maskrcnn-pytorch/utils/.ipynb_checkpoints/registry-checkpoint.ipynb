{
 "cells": [
  {
   "cell_type": "code",
   "execution_count": 1,
   "metadata": {},
   "outputs": [],
   "source": [
    "def _register_generic(module_dict, module_name, module):\n",
    "    assert module_name not in module_dict\n",
    "    module_dict[module_name] = module\n",
    "    \n",
    "class Registry(dict):\n",
    "    def __init__(self, *args, **kwargs):\n",
    "        super(Registry, self).__init__(*args, **kwargs)\n",
    "    \n",
    "    def register(self, module_name, module=None):\n",
    "        # used as function call\n",
    "        if module is not None:\n",
    "            _register_generic(self, module_name, module)\n",
    "            return\n",
    "        \n",
    "        def register_fn(fn):\n",
    "            _register_generic(self, module_name, fn)\n",
    "            return fn\n",
    "\n",
    "        return register_fn"
   ]
  }
 ],
 "metadata": {
  "kernelspec": {
   "display_name": "Python 3",
   "language": "python",
   "name": "python3"
  },
  "language_info": {
   "codemirror_mode": {
    "name": "ipython",
    "version": 3
   },
   "file_extension": ".py",
   "mimetype": "text/x-python",
   "name": "python",
   "nbconvert_exporter": "python",
   "pygments_lexer": "ipython3",
   "version": "3.6.4"
  }
 },
 "nbformat": 4,
 "nbformat_minor": 2
}
