{
 "cells": [
  {
   "cell_type": "code",
   "execution_count": 3,
   "metadata": {},
   "outputs": [],
   "source": [
    "import torch\n",
    "\n",
    "class BalancedPositiveNegativeSampler(object):\n",
    "    def __init__(self, batch_size_per_image, positive_fraction):\n",
    "        self.batch_size_per_image = batch_size_per_image\n",
    "        self.positive_fraction = positive_fraction\n",
    "    def __call__(self, matched_idxs):\n",
    "        \n",
    "        pos_idx = []\n",
    "        neg_idx = []\n",
    "        for matched_idxs_per_image in matched_idxs:\n",
    "            positive = torch.nonzero(matched_idxs_per_image >= 1).squeeze(1)\n",
    "            negative = torch.nonzero(matched_idxs_per_image == 0).squeeze(1)"
   ]
  },
  {
   "cell_type": "code",
   "execution_count": 20,
   "metadata": {},
   "outputs": [
    {
     "name": "stdout",
     "output_type": "stream",
     "text": [
      "tensor([ 1.5912,  1.4064,  0.0952, -0.8204])\n",
      "torch.Size([4])\n",
      "tensor([1, 1, 1, 0], dtype=torch.uint8)\n",
      "tensor([[0],\n",
      "        [1],\n",
      "        [2]])\n",
      "torch.Size([3, 1])\n",
      "tensor([0, 1, 2])\n",
      "torch.Size([3])\n"
     ]
    }
   ],
   "source": [
    "z = torch.randn((4))\n",
    "print(z)\n",
    "print(z.shape)\n",
    "print(z>=0)\n",
    "z = torch.nonzero(z>=0)\n",
    "print(z)\n",
    "print(z.shape)\n",
    "z = z.squeeze(1)\n",
    "print(z)\n",
    "print(z.shape)"
   ]
  },
  {
   "cell_type": "code",
   "execution_count": 17,
   "metadata": {},
   "outputs": [
    {
     "name": "stdout",
     "output_type": "stream",
     "text": [
      "torch.Size([4, 5, 1, 1])\n"
     ]
    }
   ],
   "source": [
    "z = torch.randn((4))\n",
    "z = z.squeeze(1)\n",
    "print(z.shape)"
   ]
  }
 ],
 "metadata": {
  "kernelspec": {
   "display_name": "Python 3",
   "language": "python",
   "name": "python3"
  },
  "language_info": {
   "codemirror_mode": {
    "name": "ipython",
    "version": 3
   },
   "file_extension": ".py",
   "mimetype": "text/x-python",
   "name": "python",
   "nbconvert_exporter": "python",
   "pygments_lexer": "ipython3",
   "version": "3.6.4"
  }
 },
 "nbformat": 4,
 "nbformat_minor": 2
}
