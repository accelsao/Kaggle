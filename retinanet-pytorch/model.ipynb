{
 "cells": [
  {
   "cell_type": "code",
   "execution_count": 3,
   "metadata": {},
   "outputs": [],
   "source": [
    "import torch\n",
    "from torch import nn\n",
    "import numpy as np"
   ]
  },
  {
   "cell_type": "code",
   "execution_count": null,
   "metadata": {},
   "outputs": [],
   "source": [
    "class PyramidFeatures(nn.Module):\n",
    "    def __init__(C3_size, C4_size, C5_size, feature_size=256):\n",
    "        super().__init__()\n",
    "        \n",
    "        self."
   ]
  },
  {
   "cell_type": "code",
   "execution_count": 7,
   "metadata": {},
   "outputs": [
    {
     "name": "stdout",
     "output_type": "stream",
     "text": [
      "[[1.         1.        ]\n",
      " [1.25992105 1.25992105]\n",
      " [1.58740105 1.58740105]\n",
      " [1.         1.        ]\n",
      " [1.25992105 1.25992105]\n",
      " [1.58740105 1.58740105]\n",
      " [1.         1.        ]\n",
      " [1.25992105 1.25992105]\n",
      " [1.58740105 1.58740105]]\n",
      "[[ 0.          0.         16.         16.        ]\n",
      " [ 0.          0.         20.1587368  20.1587368 ]\n",
      " [ 0.          0.         25.39841683 25.39841683]\n",
      " [ 0.          0.         16.         16.        ]\n",
      " [ 0.          0.         20.1587368  20.1587368 ]\n",
      " [ 0.          0.         25.39841683 25.39841683]\n",
      " [ 0.          0.         16.         16.        ]\n",
      " [ 0.          0.         20.1587368  20.1587368 ]\n",
      " [ 0.          0.         25.39841683 25.39841683]]\n"
     ]
    }
   ],
   "source": [
    "scales = np.array([2 ** 0, 2 ** (1.0 / 3.0), 2 ** (2.0 / 3.0)])\n",
    "ratios = np.array([0.5, 1, 2])\n",
    "base_size = 16\n",
    "num_anchors = len(ratios) * len(scales)\n",
    "anchors = np.zeros((num_anchors, 4))\n",
    "print(np.tile(scales, (2, len(ratios))).T)\n",
    "anchors[:, 2:] = base_size * np.tile(scales, (2, len(ratios))).T\n",
    "print(anchors)\n"
   ]
  },
  {
   "cell_type": "code",
   "execution_count": 14,
   "metadata": {},
   "outputs": [
    {
     "name": "stdout",
     "output_type": "stream",
     "text": [
      "[16.         20.1587368  25.39841683 16.         20.1587368  25.39841683\n",
      " 16.         20.1587368  25.39841683]\n"
     ]
    }
   ],
   "source": [
    "print(anchors[:, 2])"
   ]
  },
  {
   "cell_type": "code",
   "execution_count": 15,
   "metadata": {},
   "outputs": [
    {
     "name": "stdout",
     "output_type": "stream",
     "text": [
      "[256.         406.3746693  645.07957755 256.         406.3746693\n",
      " 645.07957755 256.         406.3746693  645.07957755]\n"
     ]
    }
   ],
   "source": [
    "areas = anchors[:, 2] * anchors[:, 3]\n",
    "print(areas)"
   ]
  },
  {
   "cell_type": "code",
   "execution_count": 16,
   "metadata": {},
   "outputs": [
    {
     "data": {
      "text/plain": [
       "array([256.        , 406.3746693 , 645.07957755, 256.        ,\n",
       "       406.3746693 , 645.07957755, 256.        , 406.3746693 ,\n",
       "       645.07957755])"
      ]
     },
     "execution_count": 16,
     "metadata": {},
     "output_type": "execute_result"
    }
   ],
   "source": [
    "areas.ravel()"
   ]
  },
  {
   "cell_type": "code",
   "execution_count": 8,
   "metadata": {},
   "outputs": [
    {
     "data": {
      "text/plain": [
       "array([0.5, 0.5, 0.5, 1. , 1. , 1. , 2. , 2. , 2. ])"
      ]
     },
     "execution_count": 8,
     "metadata": {},
     "output_type": "execute_result"
    }
   ],
   "source": [
    "np.repeat(ratios, len(scales))"
   ]
  }
 ],
 "metadata": {
  "kernelspec": {
   "display_name": "Python 3",
   "language": "python",
   "name": "python3"
  },
  "language_info": {
   "codemirror_mode": {
    "name": "ipython",
    "version": 3
   },
   "file_extension": ".py",
   "mimetype": "text/x-python",
   "name": "python",
   "nbconvert_exporter": "python",
   "pygments_lexer": "ipython3",
   "version": "3.6.4"
  }
 },
 "nbformat": 4,
 "nbformat_minor": 2
}
